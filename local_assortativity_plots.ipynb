{
 "cells": [
  {
   "cell_type": "code",
   "execution_count": 1,
   "metadata": {},
   "outputs": [],
   "source": [
    "import random\n",
    "import numpy\n",
    "from matplotlib import pyplot as plt\n",
    "from torch_geometric.utils import *\n",
    "from datasets import WebKB, WikipediaNetwork, FilmNetwork, BGP, Airports\n",
    "from gnnutils import *\n",
    "from build_multigraph import build_pyg_struc_multigraph\n",
    "import seaborn as sns\n",
    "from torch_geometric.datasets import Planetoid"
   ]
  },
  {
   "cell_type": "code",
   "execution_count": 2,
   "metadata": {},
   "outputs": [],
   "source": [
    "def get_assortativity(data, use_weights=False):\n",
    "    bg = to_networkx(data)\n",
    "    print(bg.number_of_edges())\n",
    "    if use_weights:\n",
    "        r_g = global_assortativity(bg, data.y.numpy(), data.edge_weight.numpy())\n",
    "    else:\n",
    "        r_g = global_assortativity(bg, data.y.numpy())\n",
    "\n",
    "    print(\"Global Assortativity: \",r_g)\n",
    "    if use_weights:\n",
    "        _, r_l , _ = local_assortativity(bg,data.y.numpy(), data.edge_weight.numpy())\n",
    "    else:\n",
    "        _, r_l , _ = local_assortativity(bg,data.y.numpy())\n",
    "        \n",
    "    return r_g, r_l\n"
   ]
  },
  {
   "cell_type": "code",
   "execution_count": 3,
   "metadata": {},
   "outputs": [],
   "source": [
    "def get_data(d, bgp=False, airports=False):\n",
    "    if airports:\n",
    "        dataset = Airports(root=\"original_datasets/airports_dataset/\"+d, dataset_name=d)\n",
    "        original = dataset[0]\n",
    "    elif bgp:\n",
    "        dataset = BGP(root=\"original_datasets/bgp_dataset\")\n",
    "        original = dataset[0]\n",
    "    else:\n",
    "        if d in [\"cornell\", \"texas\", \"wisconsin\"]:\n",
    "            dataset = WebKB(root=\"original_datasets/webkb\", name=d)\n",
    "        elif d in [\"chameleon\", \"squirrel\"]:\n",
    "            dataset = WikipediaNetwork(root=\"original_datasets/wiki\", name=d)\n",
    "        else:\n",
    "            dataset = FilmNetwork(root=\"original_datasets/film\", name=d)\n",
    "        original = dataset[0]\n",
    "    print(original)\n",
    "    return original"
   ]
  },
  {
   "cell_type": "code",
   "execution_count": 4,
   "metadata": {},
   "outputs": [],
   "source": [
    "def get_plot(dataset, b, bgp=False, airports=False):\n",
    "    data = get_data(dataset, bgp, airports)\n",
    "    r_g, r_l = get_assortativity(data)\n",
    "    return r_g, r_l"
   ]
  },
  {
   "cell_type": "code",
   "execution_count": 5,
   "metadata": {},
   "outputs": [],
   "source": [
    "b = 20"
   ]
  },
  {
   "cell_type": "code",
   "execution_count": null,
   "metadata": {},
   "outputs": [],
   "source": []
  },
  {
   "cell_type": "code",
   "execution_count": null,
   "metadata": {},
   "outputs": [],
   "source": []
  },
  {
   "cell_type": "code",
   "execution_count": null,
   "metadata": {},
   "outputs": [],
   "source": []
  },
  {
   "cell_type": "code",
   "execution_count": null,
   "metadata": {},
   "outputs": [],
   "source": []
  },
  {
   "cell_type": "code",
   "execution_count": 6,
   "metadata": {},
   "outputs": [
    {
     "name": "stdout",
     "output_type": "stream",
     "text": [
      "Data(edge_index=[2, 62792], test_mask=[2277, 10], train_mask=[2277, 10], val_mask=[2277, 10], x=[2277, 2325], y=[2277])\n"
     ]
    },
    {
     "name": "stderr",
     "output_type": "stream",
     "text": [
      "  1%|          | 14/2277 [00:00<00:16, 136.79it/s]"
     ]
    },
    {
     "name": "stdout",
     "output_type": "stream",
     "text": [
      "62792\n",
      "Global Assortativity:  (0.03316148311146054, array([[0.0281883 , 0.06669639, 0.01989107, 0.02083068, 0.02379284],\n",
      "       [0.06669639, 0.03373041, 0.02723277, 0.02411135, 0.02970124],\n",
      "       [0.01989107, 0.02723277, 0.0467894 , 0.04895528, 0.05440183],\n",
      "       [0.02083068, 0.02411135, 0.04895528, 0.05707733, 0.06911708],\n",
      "       [0.02379284, 0.02970124, 0.05440183, 0.06911708, 0.06475347]]))\n",
      "start iteration\n"
     ]
    },
    {
     "name": "stderr",
     "output_type": "stream",
     "text": [
      "100%|██████████| 2277/2277 [00:20<00:00, 108.51it/s]\n"
     ]
    }
   ],
   "source": [
    "r_g_c, r_l_c = get_plot(\"chameleon\", b)\n"
   ]
  },
  {
   "cell_type": "code",
   "execution_count": 7,
   "metadata": {},
   "outputs": [
    {
     "name": "stdout",
     "output_type": "stream",
     "text": [
      "Data(edge_index=[2, 396846], test_mask=[5201, 10], train_mask=[5201, 10], val_mask=[5201, 10], x=[5201, 2089], y=[5201])\n",
      "396846\n",
      "Global Assortativity:  (0.007055677800582819, array([[0.01913589, 0.02164064, 0.02086452, 0.02391356, 0.03628108],\n",
      "       [0.02164064, 0.02700796, 0.03000912, 0.03523533, 0.04828321],\n",
      "       [0.02086452, 0.03000912, 0.03910081, 0.04668058, 0.05705992],\n",
      "       [0.02391356, 0.03523533, 0.04668058, 0.056246  , 0.06882771],\n",
      "       [0.03628108, 0.04828321, 0.05705992, 0.06882771, 0.08091804]]))\n"
     ]
    },
    {
     "name": "stderr",
     "output_type": "stream",
     "text": [
      "  0%|          | 5/5201 [00:00<01:48, 47.73it/s]"
     ]
    },
    {
     "name": "stdout",
     "output_type": "stream",
     "text": [
      "start iteration\n"
     ]
    },
    {
     "name": "stderr",
     "output_type": "stream",
     "text": [
      "100%|██████████| 5201/5201 [01:55<00:00, 44.94it/s]\n"
     ]
    }
   ],
   "source": [
    "r_g_s, r_l_s = get_plot(\"squirrel\", b)"
   ]
  },
  {
   "cell_type": "code",
   "execution_count": 8,
   "metadata": {},
   "outputs": [
    {
     "name": "stdout",
     "output_type": "stream",
     "text": [
      "Data(edge_index=[2, 53411], test_mask=[7600, 10], train_mask=[7600, 10], val_mask=[7600, 10], x=[7600, 932], y=[7600])\n"
     ]
    },
    {
     "name": "stderr",
     "output_type": "stream",
     "text": [
      "  0%|          | 0/7600 [00:00<?, ?it/s]"
     ]
    },
    {
     "name": "stdout",
     "output_type": "stream",
     "text": [
      "53411\n",
      "Global Assortativity:  (0.004735655799170577, array([[0.01215106, 0.01789893, 0.02222389, 0.02611822, 0.02696074],\n",
      "       [0.01789893, 0.03010616, 0.03710846, 0.04371759, 0.0443916 ],\n",
      "       [0.02222389, 0.03710846, 0.0461141 , 0.0555878 , 0.05322874],\n",
      "       [0.02611822, 0.04371759, 0.0555878 , 0.06605381, 0.06309562],\n",
      "       [0.02696074, 0.0443916 , 0.05322874, 0.06309562, 0.06491172]]))\n",
      "start iteration\n"
     ]
    },
    {
     "name": "stderr",
     "output_type": "stream",
     "text": [
      "100%|██████████| 7600/7600 [01:26<00:00, 88.20it/s] \n"
     ]
    }
   ],
   "source": [
    "r_g_f, r_l_f = get_plot(\"film\", b)"
   ]
  },
  {
   "cell_type": "code",
   "execution_count": 9,
   "metadata": {},
   "outputs": [
    {
     "name": "stderr",
     "output_type": "stream",
     "text": [
      " 19%|█▉        | 35/183 [00:00<00:00, 349.29it/s]"
     ]
    },
    {
     "name": "stdout",
     "output_type": "stream",
     "text": [
      "Data(edge_index=[2, 557], test_mask=[183, 10], train_mask=[183, 10], val_mask=[183, 10], x=[183, 1703], y=[183])\n",
      "557\n",
      "Global Assortativity:  (-0.07069980185917214, array([[0.07540395, 0.00179533, 0.02154399, 0.18312388, 0.03949731],\n",
      "       [0.00179533, 0.        , 0.        , 0.00897666, 0.00359066],\n",
      "       [0.02154399, 0.        , 0.01077199, 0.02872531, 0.01077199],\n",
      "       [0.18312388, 0.00897666, 0.02872531, 0.19928187, 0.05206463],\n",
      "       [0.03949731, 0.00359066, 0.01077199, 0.05206463, 0.01436266]]))\n",
      "start iteration\n"
     ]
    },
    {
     "name": "stderr",
     "output_type": "stream",
     "text": [
      "100%|██████████| 183/183 [00:00<00:00, 345.99it/s]\n"
     ]
    }
   ],
   "source": [
    "r_g_co, r_l_co = get_plot(\"cornell\", b)"
   ]
  },
  {
   "cell_type": "code",
   "execution_count": 10,
   "metadata": {},
   "outputs": [
    {
     "name": "stderr",
     "output_type": "stream",
     "text": [
      " 22%|██▏       | 40/183 [00:00<00:00, 392.97it/s]"
     ]
    },
    {
     "name": "stdout",
     "output_type": "stream",
     "text": [
      "Data(edge_index=[2, 574], test_mask=[183, 10], train_mask=[183, 10], val_mask=[183, 10], x=[183, 1703], y=[183])\n",
      "574\n",
      "Global Assortativity:  (-0.25871925140403595, array([[0.0087108 , 0.        , 0.02090592, 0.17595819, 0.08710801],\n",
      "       [0.        , 0.        , 0.00348432, 0.        , 0.        ],\n",
      "       [0.02090592, 0.00348432, 0.01393728, 0.08710801, 0.03832753],\n",
      "       [0.17595819, 0.        , 0.08710801, 0.05400697, 0.04355401],\n",
      "       [0.08710801, 0.        , 0.03832753, 0.04355401, 0.01045296]]))\n",
      "start iteration\n"
     ]
    },
    {
     "name": "stderr",
     "output_type": "stream",
     "text": [
      "100%|██████████| 183/183 [00:00<00:00, 390.36it/s]\n"
     ]
    }
   ],
   "source": [
    "r_g_t, r_l_t = get_plot(\"texas\", b)"
   ]
  },
  {
   "cell_type": "code",
   "execution_count": 11,
   "metadata": {},
   "outputs": [
    {
     "name": "stderr",
     "output_type": "stream",
     "text": [
      " 15%|█▌        | 38/251 [00:00<00:00, 371.87it/s]"
     ]
    },
    {
     "name": "stdout",
     "output_type": "stream",
     "text": [
      "Data(edge_index=[2, 916], test_mask=[251, 10], train_mask=[251, 10], val_mask=[251, 10], x=[251, 1703], y=[251])\n",
      "916\n",
      "Global Assortativity:  (-0.15240889910471722, array([[0.00218341, 0.00655022, 0.        , 0.00545852, 0.01200873],\n",
      "       [0.00655022, 0.11899563, 0.20742358, 0.05567686, 0.00982533],\n",
      "       [0.        , 0.20742358, 0.0360262 , 0.04694323, 0.03930131],\n",
      "       [0.00545852, 0.05567686, 0.04694323, 0.01200873, 0.02074236],\n",
      "       [0.01200873, 0.00982533, 0.03930131, 0.02074236, 0.02292576]]))\n",
      "start iteration\n"
     ]
    },
    {
     "name": "stderr",
     "output_type": "stream",
     "text": [
      "100%|██████████| 251/251 [00:00<00:00, 369.13it/s]\n"
     ]
    }
   ],
   "source": [
    "r_g_w, r_l_w = get_plot(\"wisconsin\", b)"
   ]
  },
  {
   "cell_type": "code",
   "execution_count": 12,
   "metadata": {},
   "outputs": [
    {
     "name": "stdout",
     "output_type": "stream",
     "text": [
      "Data(edge_index=[2, 206799], test_mask=[10176], train_mask=[10176], val_mask=[10176], x=[10176, 287], y=[10176])\n",
      "206799\n",
      "Global Assortativity:  (1.1077076611523441e-05, array([[3.25920338e-03, 1.46615796e-02, 3.66539490e-03, 1.72147834e-03,\n",
      "        2.62428735e-02, 9.15381602e-03, 2.70794346e-04],\n",
      "       [1.46954289e-02, 6.65960667e-02, 1.69778384e-02, 7.79500868e-03,\n",
      "        1.25996741e-01, 4.31288352e-02, 1.32495805e-03],\n",
      "       [3.59286070e-03, 1.62428252e-02, 4.11027133e-03, 1.91006726e-03,\n",
      "        3.10591444e-02, 1.06576918e-02, 3.28821706e-04],\n",
      "       [1.84236868e-03, 8.22054265e-03, 2.28724510e-03, 1.05416370e-03,\n",
      "        1.64120716e-02, 5.60931146e-03, 1.69246466e-04],\n",
      "       [2.09623838e-02, 9.84966078e-02, 2.51113400e-02, 1.17650472e-02,\n",
      "        1.85407086e-01, 6.46231365e-02, 1.98743708e-03],\n",
      "       [7.06966668e-03, 3.41539369e-02, 8.57837804e-03, 3.94102486e-03,\n",
      "        6.43233284e-02, 2.24565883e-02, 6.43136572e-04],\n",
      "       [5.12575012e-04, 2.74179276e-03, 7.01163932e-04, 2.70794346e-04,\n",
      "        5.39654447e-03, 1.81335500e-03, 5.80273599e-05]]))\n"
     ]
    },
    {
     "name": "stderr",
     "output_type": "stream",
     "text": [
      "/u/ml00_s/suresh43/gnns-and-local-assortativity/gnnutils.py:244: RuntimeWarning: divide by zero encountered in true_divide\n",
      "  D = sparse.diags(1. / degree, 0, format='csc')\n",
      "/u/ml00_s/suresh43/gnns-and-local-assortativity/gnnutils.py:254: RuntimeWarning: invalid value encountered in true_divide\n",
      "  Z = W.dot(Z) / degree\n",
      "  0%|          | 0/10176 [00:00<?, ?it/s]/u/ml00_s/suresh43/gnns-and-local-assortativity/gnnutils.py:197: RuntimeWarning: divide by zero encountered in true_divide\n",
      "  D = sparse.diags(1./degree, 0, format='csc')\n",
      "/u/ml00_s/suresh43/gnns-and-local-assortativity/gnnutils.py:289: RuntimeWarning: invalid value encountered in true_divide\n",
      "  e_gh /= np.sum(e_gh)\n",
      "  0%|          | 5/10176 [00:00<03:31, 48.09it/s]"
     ]
    },
    {
     "name": "stdout",
     "output_type": "stream",
     "text": [
      "start iteration\n"
     ]
    },
    {
     "name": "stderr",
     "output_type": "stream",
     "text": [
      "100%|██████████| 10176/10176 [01:32<00:00, 109.75it/s]\n"
     ]
    }
   ],
   "source": [
    "r_g_bgp, r_l_bgp = get_plot(\"bgp\", b,bgp=True)"
   ]
  },
  {
   "cell_type": "code",
   "execution_count": 13,
   "metadata": {},
   "outputs": [
    {
     "name": "stderr",
     "output_type": "stream",
     "text": [
      " 45%|████▌     | 59/131 [00:00<00:00, 584.44it/s]"
     ]
    },
    {
     "name": "stdout",
     "output_type": "stream",
     "text": [
      "Data(edge_index=[2, 2077], x=[131, 1], y=[131])\n",
      "2077\n",
      "Global Assortativity:  (0.011646396242485039, array([[0.37024555, 0.14780934, 0.05488686, 0.04140587],\n",
      "       [0.14780934, 0.05681271, 0.01974001, 0.00770342],\n",
      "       [0.05488686, 0.01974001, 0.01636976, 0.00337025],\n",
      "       [0.04140587, 0.00770342, 0.00337025, 0.00674049]]))\n",
      "start iteration\n"
     ]
    },
    {
     "name": "stderr",
     "output_type": "stream",
     "text": [
      "100%|██████████| 131/131 [00:00<00:00, 566.09it/s]\n",
      "  0%|          | 0/399 [00:00<?, ?it/s]"
     ]
    },
    {
     "name": "stdout",
     "output_type": "stream",
     "text": [
      "Data(edge_index=[2, 11988], x=[399, 1], y=[399])\n",
      "11988\n",
      "Global Assortativity:  (-0.07370492070926721, array([[0.34517851, 0.16132799, 0.06706707, 0.04045712],\n",
      "       [0.16132799, 0.05188522, 0.01659993, 0.00909243],\n",
      "       [0.06706707, 0.01659993, 0.00517184, 0.00308642],\n",
      "       [0.04045712, 0.00909243, 0.00308642, 0.0025025 ]]))\n",
      "start iteration\n"
     ]
    },
    {
     "name": "stderr",
     "output_type": "stream",
     "text": [
      "100%|██████████| 399/399 [00:00<00:00, 474.10it/s]\n",
      "  0%|          | 0/1190 [00:00<?, ?it/s]"
     ]
    },
    {
     "name": "stdout",
     "output_type": "stream",
     "text": [
      "Data(edge_index=[2, 27198], x=[1190, 1], y=[1190])\n",
      "27198\n",
      "Global Assortativity:  (0.26294514114798095, array([[0.62210457, 0.07283624, 0.03735569, 0.01694978],\n",
      "       [0.07283624, 0.05603353, 0.01683947, 0.00441209],\n",
      "       [0.03735569, 0.01683947, 0.0166924 , 0.00268402],\n",
      "       [0.01694978, 0.00441209, 0.00268402, 0.00301493]]))\n",
      "start iteration\n"
     ]
    },
    {
     "name": "stderr",
     "output_type": "stream",
     "text": [
      "100%|██████████| 1190/1190 [00:05<00:00, 213.04it/s]\n"
     ]
    }
   ],
   "source": [
    "r_g_br, r_l_br = get_plot(\"brazil\", b,airports=True)\n",
    "r_g_eu, r_l_eu = get_plot(\"europe\", b,airports=True)\n",
    "r_g_us, r_l_us = get_plot(\"usa\", b, airports=True)\n"
   ]
  },
  {
   "cell_type": "code",
   "execution_count": 14,
   "metadata": {},
   "outputs": [
    {
     "data": {
      "image/png": "[encoded data removed]",
      "text/plain": [
       "<Figure size 648x648 with 9 Axes>"
      ]
     },
     "metadata": {},
     "output_type": "display_data"
    }
   ],
   "source": [
    "sns.set_style(\"ticks\")\n",
    "\n",
    "# Some example data to display\n",
    "\n",
    "fig, axs = plt.subplots(3, 3, gridspec_kw = {'wspace':.3, 'hspace':.5})\n",
    "    \n",
    "b = 20\n",
    "ax = axs[1,0]\n",
    "ax.hist(r_l_c, bins=b,alpha=0.9, color='lightcoral',edgecolor='lightcoral', linewidth=1.5, label='local')\n",
    "ax.axvline(x=r_g_c[0], linestyle='--', alpha=0.6, linewidth=2.5, label='global')\n",
    "ax.set_title('Chame.',fontsize=25, loc=\"right\")\n",
    "\n",
    "\n",
    "# ax.legend(loc='upper right', fontsize=20)\n",
    "\n",
    "b = 20\n",
    "ax = axs[1,1]\n",
    "ax.hist(r_l_f, bins=b,alpha=0.9, color='lightcoral',edgecolor='lightcoral', linewidth=1.5)\n",
    "ax.axvline(x=r_g_f[0], linestyle='--', alpha=0.6, linewidth=2.5)\n",
    "ax.set_title('Actor',fontsize=25, loc=\"right\")\n",
    "\n",
    "\n",
    "b = 20\n",
    "ax = axs[0,0]\n",
    "ax.hist(r_l_co, bins=b,alpha=0.9, color='lightcoral',edgecolor='lightcoral', linewidth=1.5)\n",
    "ax.axvline(x=r_g_co[0], linestyle='--', alpha=0.6, linewidth=2.5)\n",
    "ax.set_title('Cornell',fontsize=25, loc=\"right\")\n",
    "# ax.set_xlim(-0.75, 0.8)\n",
    "\n",
    "\n",
    "\n",
    "b = 20\n",
    "ax = axs[0,1]\n",
    "ax.hist(r_l_w, bins=b,alpha=0.9, color='lightcoral',edgecolor='lightcoral', linewidth=1.5)\n",
    "ax.axvline(x=r_g_w[0], linestyle='--', alpha=0.6, linewidth=2.5)\n",
    "ax.set_title('Wiscon.',fontsize=25, loc=\"right\")\n",
    "\n",
    "\n",
    "b = 20\n",
    "ax = axs[0,2]\n",
    "ax.hist(r_l_t, bins=b,alpha=0.9, color='lightcoral',edgecolor='lightcoral', linewidth=1.5)\n",
    "ax.axvline(x=r_g_t[0], linestyle='--', alpha=0.6, linewidth=2.5)\n",
    "ax.set_title('Texas',fontsize=25, loc=\"right\")\n",
    "\n",
    "\n",
    "b = 20\n",
    "ax = axs[1,2]\n",
    "ax.hist(r_l_bgp, bins=b,alpha=0.9, color='lightcoral',edgecolor='lightcoral', linewidth=1.5)\n",
    "ax.axvline(x=r_g_bgp[0], linestyle='--', alpha=0.6, linewidth=2.5)\n",
    "ax.set_title('BGP',fontsize=25, loc=\"right\")\n",
    "ax.set_xlim(-.45, 1.1)\n",
    "\n",
    "\n",
    "b = 20\n",
    "ax = axs[2,0]\n",
    "ax.hist(r_l_br, bins=b,alpha=0.9, color='lightcoral',edgecolor='lightcoral', linewidth=1.5)\n",
    "ax.axvline(x=r_g_br[0], linestyle='--', alpha=0.6, linewidth=2.5)\n",
    "ax.set_title('Brazil',fontsize=25, loc=\"right\")\n",
    "\n",
    "\n",
    "b = 20\n",
    "ax = axs[2,2]\n",
    "ax.hist(r_l_us, bins=b,alpha=0.9, color='lightcoral',edgecolor='lightcoral', linewidth=1.5)\n",
    "ax.axvline(x=r_g_us[0], linestyle='--', alpha=0.6, linewidth=2.5)\n",
    "ax.set_title('USA',fontsize=25, loc=\"right\")\n",
    "\n",
    "\n",
    "b=20\n",
    "ax = axs[2,1]\n",
    "ax.hist(r_l_eu, bins=b,alpha=0.9, color='lightcoral',edgecolor='lightcoral', linewidth=1.5)\n",
    "ax.axvline(x=r_g_eu[0], linestyle='--', alpha=0.6, linewidth=2.5)\n",
    "ax.set_title('Europe',fontsize=25, loc=\"right\")\n",
    "\n",
    "\n",
    "for ax in axs.flat:\n",
    "    \n",
    "#     ax.set_xlim(-.5, 1.0)\n",
    "    ax.tick_params(axis='x',rotation=0, labelsize=20)\n",
    "    ax.tick_params(axis='y',rotation=0, labelsize=20)\n",
    "    ax.yaxis.set_major_formatter(plt.ScalarFormatter(useMathText=True))\n",
    "    ax.ticklabel_format(style='sci', axis='y', scilimits=(0,0))\n",
    "    ax.yaxis.get_offset_text().set_fontsize(15)\n",
    "\n",
    "\n",
    "#Hide x labels and tick labels for top plots and y ticks for right plots.\n",
    "# for ax in axs.flat:\n",
    "#     ax.label_outer()\n",
    "\n",
    "\n",
    "\n",
    "fig.set_figheight(9)\n",
    "\n",
    "fig.set_figwidth(9)\n",
    "# fig.tight_layout()\n",
    "\n",
    "fig.text(0.5, 0.04, 'Local Assortativity', ha='center', fontsize=22)\n",
    "fig.text(0.05, 0.5, 'Frequency', va='center', rotation='vertical', fontsize=22)\n",
    "\n",
    "fig.savefig('figures/local_assortativity_dataset.png', dpi=200, format='png', bbox_inches = 'tight')"
   ]
  },
  {
   "cell_type": "code",
   "execution_count": null,
   "metadata": {},
   "outputs": [],
   "source": []
  },
  {
   "cell_type": "code",
   "execution_count": null,
   "metadata": {},
   "outputs": [],
   "source": []
  },
  {
   "cell_type": "code",
   "execution_count": null,
   "metadata": {},
   "outputs": [],
   "source": []
  },
  {
   "cell_type": "code",
   "execution_count": null,
   "metadata": {},
   "outputs": [],
   "source": []
  },
  {
   "cell_type": "code",
   "execution_count": null,
   "metadata": {},
   "outputs": [],
   "source": []
  },
  {
   "cell_type": "code",
   "execution_count": null,
   "metadata": {},
   "outputs": [],
   "source": []
  }
 ],
 "metadata": {
  "kernelspec": {
   "display_name": "Python 3",
   "language": "python",
   "name": "python3"
  },
  "language_info": {
   "codemirror_mode": {
    "name": "ipython",
    "version": 3
   },
   "file_extension": ".py",
   "mimetype": "text/x-python",
   "name": "python",
   "nbconvert_exporter": "python",
   "pygments_lexer": "ipython3",
   "version": "3.8.8"
  }
 },
 "nbformat": 4,
 "nbformat_minor": 4
}
